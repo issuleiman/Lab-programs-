{
  "nbformat": 4,
  "nbformat_minor": 0,
  "metadata": {
    "colab": {
      "provenance": []
    },
    "kernelspec": {
      "name": "python3",
      "display_name": "Python 3"
    },
    "language_info": {
      "name": "python"
    }
  },
  "cells": [
    {
      "cell_type": "code",
      "execution_count": null,
      "metadata": {
        "id": "mwqEDNg_0luJ"
      },
      "outputs": [],
      "source": [
        "import numpy as np\n"
      ]
    },
    {
      "cell_type": "markdown",
      "source": [
        "Array"
      ],
      "metadata": {
        "id": "-6ykHxWE_n2M"
      }
    },
    {
      "cell_type": "code",
      "source": [
        "# Create a rank 1 array\n",
        "a = np.array([0, 1, 2])\n",
        "print(type(a))\n"
      ],
      "metadata": {
        "colab": {
          "base_uri": "https://localhost:8080/"
        },
        "id": "8gvmrgXa2LF9",
        "outputId": "e2a4f7cc-4f67-403e-a0c1-e18890ada98c"
      },
      "execution_count": null,
      "outputs": [
        {
          "output_type": "stream",
          "name": "stdout",
          "text": [
            "<class 'numpy.ndarray'>\n"
          ]
        }
      ]
    },
    {
      "cell_type": "code",
      "source": [
        "# this will print the dimension of the array\n",
        "print(a.shape)\n",
        "print(a[0])\n",
        "print(a[1])\n",
        "print(a[2])\n"
      ],
      "metadata": {
        "colab": {
          "base_uri": "https://localhost:8080/"
        },
        "id": "Wmy0UNgP12_i",
        "outputId": "1d4f3600-f7f5-42f4-d279-e51f93e95e1b"
      },
      "execution_count": null,
      "outputs": [
        {
          "output_type": "stream",
          "name": "stdout",
          "text": [
            "(3,)\n",
            "0\n",
            "1\n",
            "2\n"
          ]
        }
      ]
    },
    {
      "cell_type": "code",
      "source": [
        "# Change an element of the array\n",
        "a[0] = 5\n",
        "print(a)\n"
      ],
      "metadata": {
        "colab": {
          "base_uri": "https://localhost:8080/"
        },
        "id": "oOLOE53m15dy",
        "outputId": "d3c1271f-61be-42b1-c028-301e40e21caf"
      },
      "execution_count": null,
      "outputs": [
        {
          "output_type": "stream",
          "name": "stdout",
          "text": [
            "[5 1 2]\n"
          ]
        }
      ]
    },
    {
      "cell_type": "code",
      "source": [
        "# Create a rank 2 array\n",
        "b = np.array([[0,1,2],[3,4,5]])\n",
        "print(b.shape)\n",
        "print(b)\n",
        "print(b[0, 0], b[0, 1], b[1, 0])"
      ],
      "metadata": {
        "colab": {
          "base_uri": "https://localhost:8080/"
        },
        "id": "p1iu5sR22ICk",
        "outputId": "5f3ebb70-e52f-45fc-f2c7-92be5e010240"
      },
      "execution_count": null,
      "outputs": [
        {
          "output_type": "stream",
          "name": "stdout",
          "text": [
            "(2, 3)\n",
            "[[0 1 2]\n",
            " [3 4 5]]\n",
            "0 1 3\n"
          ]
        }
      ]
    },
    {
      "cell_type": "markdown",
      "source": [
        "Creating NumPy Array"
      ],
      "metadata": {
        "id": "V6S39oe8_xo2"
      }
    },
    {
      "cell_type": "code",
      "source": [
        "# Create a 3x3 array of all zeros\n",
        "a = np.zeros((3,3))\n",
        "print(a)\n"
      ],
      "metadata": {
        "colab": {
          "base_uri": "https://localhost:8080/"
        },
        "id": "r99nMxNf2sBR",
        "outputId": "a4596eac-62ae-41db-e1ed-e87e581e773f"
      },
      "execution_count": null,
      "outputs": [
        {
          "output_type": "stream",
          "name": "stdout",
          "text": [
            "[[0. 0. 0.]\n",
            " [0. 0. 0.]\n",
            " [0. 0. 0.]]\n"
          ]
        }
      ]
    },
    {
      "cell_type": "code",
      "source": [
        "# Create a 2x2 array of all ones\n",
        "b = np.ones((2,2))\n",
        "print(b)\n"
      ],
      "metadata": {
        "colab": {
          "base_uri": "https://localhost:8080/"
        },
        "id": "nx2LxAzQ3Acf",
        "outputId": "ed931e04-d369-4aa9-d661-5f77e05d5edb"
      },
      "execution_count": null,
      "outputs": [
        {
          "output_type": "stream",
          "name": "stdout",
          "text": [
            "[[1. 1.]\n",
            " [1. 1.]]\n"
          ]
        }
      ]
    },
    {
      "cell_type": "code",
      "source": [
        "# Create a 3x3 constant array\n",
        "c = np.full((3,3), 7)\n",
        "print(c)\n"
      ],
      "metadata": {
        "colab": {
          "base_uri": "https://localhost:8080/"
        },
        "id": "DLXuRdLQ3EW_",
        "outputId": "174e952b-b351-4341-9af5-3e0616e81014"
      },
      "execution_count": null,
      "outputs": [
        {
          "output_type": "stream",
          "name": "stdout",
          "text": [
            "[[7 7 7]\n",
            " [7 7 7]\n",
            " [7 7 7]]\n"
          ]
        }
      ]
    },
    {
      "cell_type": "code",
      "source": [
        "# Create a 3x3 array filled with random values\n",
        "d = np.random.random((3,3))\n",
        "print(d)\n"
      ],
      "metadata": {
        "colab": {
          "base_uri": "https://localhost:8080/"
        },
        "id": "94Ncf_3D4KV_",
        "outputId": "67d4e54e-d1ad-4d4f-b1d9-df65a1948501"
      },
      "execution_count": null,
      "outputs": [
        {
          "output_type": "stream",
          "name": "stdout",
          "text": [
            "[[0.98802641 0.01812241 0.27001425]\n",
            " [0.30250822 0.54257635 0.24740239]\n",
            " [0.12007268 0.68157128 0.27299814]]\n"
          ]
        }
      ]
    },
    {
      "cell_type": "code",
      "source": [
        "\n",
        "# Create a 3x3 identity matrix\n",
        "e = np.eye(3)\n",
        "print(e)\n"
      ],
      "metadata": {
        "colab": {
          "base_uri": "https://localhost:8080/"
        },
        "id": "RcMzw6y54Sme",
        "outputId": "c108282a-68b8-4c29-8ed8-80962f33b989"
      },
      "execution_count": null,
      "outputs": [
        {
          "output_type": "stream",
          "name": "stdout",
          "text": [
            "[[1. 0. 0.]\n",
            " [0. 1. 0.]\n",
            " [0. 0. 1.]]\n"
          ]
        }
      ]
    },
    {
      "cell_type": "code",
      "source": [
        "\n",
        "# convert list to array\n",
        "f = np.array([2, 3, 1, 0])\n",
        "print(f)\n"
      ],
      "metadata": {
        "colab": {
          "base_uri": "https://localhost:8080/"
        },
        "id": "1i-LR5yt4Vd0",
        "outputId": "6e8f1847-3813-419d-b00f-8cc32e4d839b"
      },
      "execution_count": null,
      "outputs": [
        {
          "output_type": "stream",
          "name": "stdout",
          "text": [
            "[2 3 1 0]\n"
          ]
        }
      ]
    },
    {
      "cell_type": "code",
      "source": [
        "\n",
        "# arange() will create arrays with regularly incrementing values\n",
        "g = np.arange(20)\n",
        "print(g)\n"
      ],
      "metadata": {
        "colab": {
          "base_uri": "https://localhost:8080/"
        },
        "id": "mV_JrbI54Ze8",
        "outputId": "a469ef97-a507-4028-90eb-e9b5405e12a2"
      },
      "execution_count": null,
      "outputs": [
        {
          "output_type": "stream",
          "name": "stdout",
          "text": [
            "[ 0  1  2  3  4  5  6  7  8  9 10 11 12 13 14 15 16 17 18 19]\n"
          ]
        }
      ]
    },
    {
      "cell_type": "code",
      "source": [
        "\n",
        "# note mix of tuple and lists\n",
        "h = np.array([[0, 1,2.0],[0,0,0],(1+1j,3.,2.)])\n",
        "print(h)\n"
      ],
      "metadata": {
        "colab": {
          "base_uri": "https://localhost:8080/"
        },
        "id": "FKMf5NVJ5Wra",
        "outputId": "bdebc813-301e-4dc0-c936-4da4514f1eb5"
      },
      "execution_count": null,
      "outputs": [
        {
          "output_type": "stream",
          "name": "stdout",
          "text": [
            "[[0.+0.j 1.+0.j 2.+0.j]\n",
            " [0.+0.j 0.+0.j 0.+0.j]\n",
            " [1.+1.j 3.+0.j 2.+0.j]]\n"
          ]
        }
      ]
    },
    {
      "cell_type": "code",
      "source": [
        "\n",
        "# create an array of range with float data type\n",
        "i = np.arange(1, 8, dtype=np.float64)\n",
        "print(i)\n"
      ],
      "metadata": {
        "colab": {
          "base_uri": "https://localhost:8080/"
        },
        "id": "2pRxKphf5ZWc",
        "outputId": "65515420-01d6-4436-e843-b2a649c89f1c"
      },
      "execution_count": null,
      "outputs": [
        {
          "output_type": "stream",
          "name": "stdout",
          "text": [
            "[1. 2. 3. 4. 5. 6. 7.]\n"
          ]
        }
      ]
    },
    {
      "cell_type": "code",
      "source": [
        "\n",
        "# linspace() will create arrays with a specified number of items which are\n",
        "# spaced equally between the specified beginning and end values j= np.linspace(start, stop, num)\n",
        "j = np.linspace(2, 4, 5)\n",
        "print(j)"
      ],
      "metadata": {
        "colab": {
          "base_uri": "https://localhost:8080/"
        },
        "id": "56JleAUz5coH",
        "outputId": "25a5ffc2-b403-4539-9636-68d632a4e7cf"
      },
      "execution_count": null,
      "outputs": [
        {
          "output_type": "stream",
          "name": "stdout",
          "text": [
            "[2.  2.5 3.  3.5 4. ]\n"
          ]
        }
      ]
    },
    {
      "cell_type": "markdown",
      "source": [
        "Data Types"
      ],
      "metadata": {
        "id": "Vr-3Ed99_6Dl"
      }
    },
    {
      "cell_type": "code",
      "source": [
        "# Let numpy choose the datatype\n",
        "x = np.array([0, 1])\n",
        "y = np.array([2.0, 3.0])\n"
      ],
      "metadata": {
        "id": "oAL9sNQm5kFN"
      },
      "execution_count": null,
      "outputs": []
    },
    {
      "cell_type": "code",
      "source": [
        "\n",
        "# Force a particular datatype\n",
        "z = np.array([5, 6], dtype=np.int64)\n",
        "print(x.dtype, y.dtype, z.dtype)"
      ],
      "metadata": {
        "colab": {
          "base_uri": "https://localhost:8080/"
        },
        "id": "7-RnDbaQ6eTL",
        "outputId": "8ad49202-928d-4f34-90ce-3bc84a9f4bba"
      },
      "execution_count": null,
      "outputs": [
        {
          "output_type": "stream",
          "name": "stdout",
          "text": [
            "int64 float64 int64\n"
          ]
        }
      ]
    },
    {
      "cell_type": "markdown",
      "source": [
        "Array Indexing"
      ],
      "metadata": {
        "id": "69qP7d8KABDP"
      }
    },
    {
      "cell_type": "code",
      "source": [
        "# An exemplar array\n",
        "arr = np.array([[-1, 2, 0, 4],\n",
        "[4, -0.5, 6, 0],\n",
        "[2.6, 0, 7, 8],\n",
        "[3, -7, 4, 2.0]])\n"
      ],
      "metadata": {
        "id": "Wv6EWyWz6zg5"
      },
      "execution_count": null,
      "outputs": []
    },
    {
      "cell_type": "code",
      "source": [
        "\n",
        "# Slicing array\n",
        "temp = arr[:2, ::2]\n",
        "print (\"Array with first 2 rows and alternate columns(0 and 2):\\n\", temp)\n"
      ],
      "metadata": {
        "colab": {
          "base_uri": "https://localhost:8080/"
        },
        "id": "ipltoPCC7ZQP",
        "outputId": "d01af49f-49b3-49c8-a470-edea53b7cc85"
      },
      "execution_count": null,
      "outputs": [
        {
          "output_type": "stream",
          "name": "stdout",
          "text": [
            "Array with first 2 rows and alternate columns(0 and 2):\n",
            " [[-1.  0.]\n",
            " [ 4.  6.]]\n"
          ]
        }
      ]
    },
    {
      "cell_type": "code",
      "source": [
        "\n",
        "# Integer array indexing example\n",
        "temp = arr[[0, 1, 2, 3], [3, 2, 1, 0]]\n",
        "print (\"\\nElements at indices (0, 3), (1, 2), (2, 1),(3, 0):\\n\", temp)\n"
      ],
      "metadata": {
        "colab": {
          "base_uri": "https://localhost:8080/"
        },
        "id": "vxPjD8HJ7eht",
        "outputId": "5b38eab5-11a6-419b-c1b2-198950d23ca7"
      },
      "execution_count": null,
      "outputs": [
        {
          "output_type": "stream",
          "name": "stdout",
          "text": [
            "\n",
            "Elements at indices (0, 3), (1, 2), (2, 1),(3, 0):\n",
            " [4. 6. 0. 3.]\n"
          ]
        }
      ]
    },
    {
      "cell_type": "code",
      "source": [
        "\n",
        "# boolean array indexing example\n",
        "cond = arr > 0 # cond is a boolean array\n",
        "temp = arr[cond]\n",
        "print (\"\\nElements greater than 0:\\n\", temp)"
      ],
      "metadata": {
        "colab": {
          "base_uri": "https://localhost:8080/"
        },
        "id": "HG2_RYYC7iLo",
        "outputId": "88d255f2-5d0c-43f0-f6ca-b0c0c81d04c0"
      },
      "execution_count": null,
      "outputs": [
        {
          "output_type": "stream",
          "name": "stdout",
          "text": [
            "\n",
            "Elements greater than 0:\n",
            " [2.  4.  4.  6.  2.6 7.  8.  3.  4.  2. ]\n"
          ]
        }
      ]
    },
    {
      "cell_type": "markdown",
      "source": [
        "Basic array operations"
      ],
      "metadata": {
        "id": "tYdCi1AE7yr3"
      }
    },
    {
      "cell_type": "code",
      "source": [
        "a = np.array([1, 2, 5, 3])\n",
        "\n"
      ],
      "metadata": {
        "id": "G865RgZ170f7"
      },
      "execution_count": null,
      "outputs": []
    },
    {
      "cell_type": "code",
      "source": [
        "# add 1 to every element\n",
        "print (\"Adding 1 to every element:\", a+1)\n"
      ],
      "metadata": {
        "colab": {
          "base_uri": "https://localhost:8080/"
        },
        "id": "IBceKZOg8BrB",
        "outputId": "c36a131a-90b4-48ed-86eb-b81fdd8191e1"
      },
      "execution_count": null,
      "outputs": [
        {
          "output_type": "stream",
          "name": "stdout",
          "text": [
            "Adding 1 to every element: [2 3 6 4]\n"
          ]
        }
      ]
    },
    {
      "cell_type": "code",
      "source": [
        "# subtract 3 from each element\n",
        "print (\"Subtracting 3 from each element:\", a-3)\n"
      ],
      "metadata": {
        "colab": {
          "base_uri": "https://localhost:8080/"
        },
        "id": "Q1wVRb_08Foz",
        "outputId": "71ab2822-94aa-4cd0-b3ef-309a512ba241"
      },
      "execution_count": null,
      "outputs": [
        {
          "output_type": "stream",
          "name": "stdout",
          "text": [
            "Subtracting 3 from each element: [-2 -1  2  0]\n"
          ]
        }
      ]
    },
    {
      "cell_type": "code",
      "source": [
        "# multiply each element by 10\n",
        "print (\"Multiplying each element by 10:\", a*10)\n"
      ],
      "metadata": {
        "colab": {
          "base_uri": "https://localhost:8080/"
        },
        "id": "2O7vfqVR8H1R",
        "outputId": "0d7c927b-f54f-41b6-a244-aa9ad76a30dd"
      },
      "execution_count": null,
      "outputs": [
        {
          "output_type": "stream",
          "name": "stdout",
          "text": [
            "Multiplying each element by 10: [10 20 50 30]\n"
          ]
        }
      ]
    },
    {
      "cell_type": "code",
      "source": [
        "# square each element\n",
        "print (\"Squaring each element:\", a**2)\n"
      ],
      "metadata": {
        "colab": {
          "base_uri": "https://localhost:8080/"
        },
        "id": "hkbnFti18KOW",
        "outputId": "8a984bdf-89f9-4f82-87b9-4500ab63cfb3"
      },
      "execution_count": null,
      "outputs": [
        {
          "output_type": "stream",
          "name": "stdout",
          "text": [
            "Squaring each element: [ 1  4 25  9]\n"
          ]
        }
      ]
    },
    {
      "cell_type": "code",
      "source": [
        "# modify existing array\n",
        "a *= 2\n",
        "print (\"Doubled each element of original array:\", a)\n"
      ],
      "metadata": {
        "colab": {
          "base_uri": "https://localhost:8080/"
        },
        "id": "d9BYzZho8NN6",
        "outputId": "b072bf48-2543-451c-adc4-cc680e758758"
      },
      "execution_count": null,
      "outputs": [
        {
          "output_type": "stream",
          "name": "stdout",
          "text": [
            "Doubled each element of original array: [ 2  4 10  6]\n"
          ]
        }
      ]
    },
    {
      "cell_type": "code",
      "source": [
        "# transpose of array\n",
        "a = np.array([[1, 2, 3], [3, 4, 5], [9, 6, 0]])\n",
        "print (\"\\nOriginal array:\\n\", a)\n",
        "print (\"Transpose of array:\\n\", a.T)"
      ],
      "metadata": {
        "colab": {
          "base_uri": "https://localhost:8080/"
        },
        "id": "lyXu0_bH8P7X",
        "outputId": "c77519ac-e457-408b-b1fc-8925c5fff73f"
      },
      "execution_count": null,
      "outputs": [
        {
          "output_type": "stream",
          "name": "stdout",
          "text": [
            "\n",
            "Original array:\n",
            " [[1 2 3]\n",
            " [3 4 5]\n",
            " [9 6 0]]\n",
            "Transpose of array:\n",
            " [[1 3 9]\n",
            " [2 4 6]\n",
            " [3 5 0]]\n"
          ]
        }
      ]
    },
    {
      "cell_type": "markdown",
      "source": [
        "unary operators in numpy"
      ],
      "metadata": {
        "id": "CHYyUYDJ8jE0"
      }
    },
    {
      "cell_type": "code",
      "source": [
        "\n",
        "arr = np.array([[1, 5, 6],\n",
        "[4, 7, 2],\n",
        "[3, 1, 9]])\n"
      ],
      "metadata": {
        "id": "7CCPQZmL8kPt"
      },
      "execution_count": null,
      "outputs": []
    },
    {
      "cell_type": "code",
      "source": [
        "\n",
        "# maximum element of array\n",
        "print (\"Largest element is:\", arr.max())\n",
        "print (\"Row-wise maximum elements:\",arr.max(axis = 1))\n"
      ],
      "metadata": {
        "colab": {
          "base_uri": "https://localhost:8080/"
        },
        "id": "na6BuE2E8wK4",
        "outputId": "450cef44-b2e7-4f1b-d336-1047f6af3eac"
      },
      "execution_count": null,
      "outputs": [
        {
          "output_type": "stream",
          "name": "stdout",
          "text": [
            "Largest element is: 9\n",
            "Row-wise maximum elements: [6 7 9]\n"
          ]
        }
      ]
    },
    {
      "cell_type": "code",
      "source": [
        "\n",
        "# minimum element of array\n",
        "print (\"Column-wise minimum elements:\",arr.min(axis = 0))\n"
      ],
      "metadata": {
        "colab": {
          "base_uri": "https://localhost:8080/"
        },
        "id": "d-BOjRtq8zFQ",
        "outputId": "2656ff91-5264-4c27-d09a-7fedbfa623b5"
      },
      "execution_count": null,
      "outputs": [
        {
          "output_type": "stream",
          "name": "stdout",
          "text": [
            "Column-wise minimum elements: [1 1 2]\n"
          ]
        }
      ]
    },
    {
      "cell_type": "code",
      "source": [
        "# sum of array elements\n",
        "print (\"Sum of all array elements:\",arr.sum())\n"
      ],
      "metadata": {
        "colab": {
          "base_uri": "https://localhost:8080/"
        },
        "id": "sYCRhNKF82HF",
        "outputId": "05283ec8-0f68-454b-a3d1-362f568668cf"
      },
      "execution_count": null,
      "outputs": [
        {
          "output_type": "stream",
          "name": "stdout",
          "text": [
            "Sum of all array elements: 38\n"
          ]
        }
      ]
    },
    {
      "cell_type": "code",
      "source": [
        "# cumulative sum along each row\n",
        "print (\"Cumulative sum along each row:\\n\",arr.cumsum(axis = 1))"
      ],
      "metadata": {
        "colab": {
          "base_uri": "https://localhost:8080/"
        },
        "id": "eqnTZ-xH86Kw",
        "outputId": "b62d2c0b-ad23-4186-d11f-701fffa6ffa7"
      },
      "execution_count": null,
      "outputs": [
        {
          "output_type": "stream",
          "name": "stdout",
          "text": [
            "Cumulative sum along each row:\n",
            " [[ 1  6 12]\n",
            " [ 4 11 13]\n",
            " [ 3  4 13]]\n"
          ]
        }
      ]
    },
    {
      "cell_type": "markdown",
      "source": [
        "Binary operators"
      ],
      "metadata": {
        "id": "SokMFkca9JOk"
      }
    },
    {
      "cell_type": "code",
      "source": [
        "# binary operators in Numpy\n",
        "\n",
        "a = np.array([[1, 2],\n",
        "[3, 4]])\n",
        "b = np.array([[4, 3],\n",
        "[2, 1]])\n"
      ],
      "metadata": {
        "id": "bBDXq4h39Kqb"
      },
      "execution_count": null,
      "outputs": []
    },
    {
      "cell_type": "code",
      "source": [
        "\n",
        "# add arrays\n",
        "print (\"Array sum:\\n\", a + b)\n"
      ],
      "metadata": {
        "colab": {
          "base_uri": "https://localhost:8080/"
        },
        "id": "bQoSydau9SLb",
        "outputId": "47fd7123-5714-4fc8-aa0c-4ed5645bdf7f"
      },
      "execution_count": null,
      "outputs": [
        {
          "output_type": "stream",
          "name": "stdout",
          "text": [
            "Array sum:\n",
            " [[5 5]\n",
            " [5 5]]\n"
          ]
        }
      ]
    },
    {
      "cell_type": "code",
      "source": [
        "\n",
        "# multiply arrays (elementwise multiplication)\n",
        "print (\"Array multiplication:\\n\", a*b)\n"
      ],
      "metadata": {
        "colab": {
          "base_uri": "https://localhost:8080/"
        },
        "id": "JpH7Y5EL9VrW",
        "outputId": "0461b397-8c2f-4578-afa8-dbf528409355"
      },
      "execution_count": null,
      "outputs": [
        {
          "output_type": "stream",
          "name": "stdout",
          "text": [
            "Array multiplication:\n",
            " [[4 6]\n",
            " [6 4]]\n"
          ]
        }
      ]
    },
    {
      "cell_type": "code",
      "source": [
        "\n",
        "# matrix multiplication\n",
        "print (\"Matrix multiplication:\\n\", a.dot(b))"
      ],
      "metadata": {
        "colab": {
          "base_uri": "https://localhost:8080/"
        },
        "id": "DHK0pjx69YTd",
        "outputId": "0092e2e7-9713-4faa-e6a3-c08eb03abeba"
      },
      "execution_count": null,
      "outputs": [
        {
          "output_type": "stream",
          "name": "stdout",
          "text": [
            "Matrix multiplication:\n",
            " [[ 8  5]\n",
            " [20 13]]\n"
          ]
        }
      ]
    },
    {
      "cell_type": "markdown",
      "source": [
        "Universal functions (ufunc)"
      ],
      "metadata": {
        "id": "17ffYwge9mI5"
      }
    },
    {
      "cell_type": "code",
      "source": [
        "\n",
        "\n",
        "# create an array of sine values\n",
        "a = np.array([0, np.pi/2, np.pi])\n",
        "print (\"Sine values of array elements:\", np.sin(a))\n"
      ],
      "metadata": {
        "colab": {
          "base_uri": "https://localhost:8080/"
        },
        "id": "EEojLfYi9oAN",
        "outputId": "1046612d-ad16-48d7-f4ce-e8b4facafe0a"
      },
      "execution_count": null,
      "outputs": [
        {
          "output_type": "stream",
          "name": "stdout",
          "text": [
            "Sine values of array elements: [0.0000000e+00 1.0000000e+00 1.2246468e-16]\n"
          ]
        }
      ]
    },
    {
      "cell_type": "code",
      "source": [
        "\n",
        "# exponential values\n",
        "a = np.array([0, 1, 2, 3])\n",
        "print (\"Exponent of array elements:\", np.exp(a))\n"
      ],
      "metadata": {
        "colab": {
          "base_uri": "https://localhost:8080/"
        },
        "id": "aWPCPeCQ91J6",
        "outputId": "b8f2398a-5f5c-4b8f-a189-04b89f8da9e9"
      },
      "execution_count": null,
      "outputs": [
        {
          "output_type": "stream",
          "name": "stdout",
          "text": [
            "Exponent of array elements: [ 1.          2.71828183  7.3890561  20.08553692]\n"
          ]
        }
      ]
    },
    {
      "cell_type": "code",
      "source": [
        "\n",
        "# square root of array values\n",
        "print (\"Square root of array elements:\", np.sqrt(a))"
      ],
      "metadata": {
        "colab": {
          "base_uri": "https://localhost:8080/"
        },
        "id": "5C6aXRQS95BD",
        "outputId": "7363c59a-fc0c-4034-8e19-2d9e0bb5485c"
      },
      "execution_count": null,
      "outputs": [
        {
          "output_type": "stream",
          "name": "stdout",
          "text": [
            "Square root of array elements: [0.         1.         1.41421356 1.73205081]\n"
          ]
        }
      ]
    },
    {
      "cell_type": "markdown",
      "source": [
        "Matrix inverse"
      ],
      "metadata": {
        "id": "m_tKRFPH-CyA"
      }
    },
    {
      "cell_type": "code",
      "source": [
        "#simple python program to find the inverse of an array (without exception handling)\n",
        "arr = np.array([[-1, 2, 0, 4],\n",
        "[4, -0.5, 6, 0],\n",
        "[2.6, 0, 7, 8],\n",
        "[3, -7, 4, 2.0]])\n",
        "inverse = np.linalg.inv(arr)\n",
        "inverse"
      ],
      "metadata": {
        "colab": {
          "base_uri": "https://localhost:8080/"
        },
        "id": "jMg-961X-Eap",
        "outputId": "1ffc49d5-d89e-491b-afdb-6bd746295b67"
      },
      "execution_count": null,
      "outputs": [
        {
          "output_type": "execute_result",
          "data": {
            "text/plain": [
              "array([[ 4.05707196,  1.98511166, -2.28287841,  1.01736973],\n",
              "       [ 0.50620347,  0.30272953, -0.24813896, -0.01985112],\n",
              "       [-2.66253102, -1.13151365,  1.50124069, -0.67990074],\n",
              "       [ 1.01116625,  0.34491315, -0.44665012,  0.26426799]])"
            ]
          },
          "metadata": {},
          "execution_count": 48
        }
      ]
    },
    {
      "cell_type": "markdown",
      "source": [
        "Linear Algebra using NumPy: (Few in-built functions)"
      ],
      "metadata": {
        "id": "y1bGILxU-f66"
      }
    },
    {
      "cell_type": "code",
      "source": [
        "#Matrix and Vector Product\n",
        "dot(a, b[, out])  #Dot product of two arrays.\n",
        "linalg.multi_dot(arrays) #Compute the dot product of two or more arrays in a single function\n",
        "                          #call, while automatically selecting the fastest evaluation order.\n",
        "\n",
        "vdot(a, b) #Return the dot product of two vectors.\n",
        "inner(a, b) #Inner product of two arrays.\n",
        "outer(a, b[, out]) #Compute the outer product of two vectors.\n",
        "\n",
        "matmul(x1, x2, /[, out, casting, order, ...])  #Matrix product of two arrays.\n",
        "tensordot(a, b[, axes]) #Compute tensor dot product along specified axes for arrays >= 1-D.\n",
        "\n",
        "einsum(subscripts, *operands[, out, dtype, ...]) # Evaluates the Einstein summation convention on the operands.\n",
        "einsum_path(subscripts, *operands[, optimize]) #Evaluates the lowest cost contraction order for an einsum expression by considering the creation of intermediate arrays.\n",
        "\n",
        "linalg.matrix_power(a, n) #Raise a square matrix to the (integer) power n.\n",
        "\n",
        "#Matrix Eigen Values\n",
        "linalg.eig(a) #Compute the eigenvalues and right eigenvectors of a square array.\n",
        "linalg.eigh(a[, UPLO]) #Return the eigenvalues and eigenvectors of a complex Hermitian (conjugate symmetric) or a real symmetric matrix.\n",
        "linalg.eigvals(a) #Compute the eigenvalues of a general matrix."
      ],
      "metadata": {
        "colab": {
          "base_uri": "https://localhost:8080/",
          "height": 106
        },
        "collapsed": true,
        "id": "JX308qdz-i1e",
        "outputId": "c2b8d3a3-3f43-442a-edce-ee116688e286"
      },
      "execution_count": null,
      "outputs": [
        {
          "output_type": "error",
          "ename": "SyntaxError",
          "evalue": "invalid syntax (<ipython-input-49-f2bd0acdbe88>, line 2)",
          "traceback": [
            "\u001b[0;36m  File \u001b[0;32m\"<ipython-input-49-f2bd0acdbe88>\"\u001b[0;36m, line \u001b[0;32m2\u001b[0m\n\u001b[0;31m    dot(a, b[, out])  #Dot product of two arrays.\u001b[0m\n\u001b[0m             ^\u001b[0m\n\u001b[0;31mSyntaxError\u001b[0m\u001b[0;31m:\u001b[0m invalid syntax\n"
          ]
        }
      ]
    }
  ]
}