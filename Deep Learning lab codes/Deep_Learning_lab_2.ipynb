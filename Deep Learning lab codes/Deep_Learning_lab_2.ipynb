{
  "nbformat": 4,
  "nbformat_minor": 0,
  "metadata": {
    "colab": {
      "provenance": []
    },
    "kernelspec": {
      "name": "python3",
      "display_name": "Python 3"
    },
    "language_info": {
      "name": "python"
    }
  },
  "cells": [
    {
      "cell_type": "code",
      "execution_count": null,
      "metadata": {
        "id": "mGDoAiqNF2DN"
      },
      "outputs": [],
      "source": []
    },
    {
      "cell_type": "markdown",
      "source": [
        "Creating a pandas series"
      ],
      "metadata": {
        "id": "ApBCdowtF-1L"
      }
    },
    {
      "cell_type": "code",
      "source": [
        "# creating a series by passing a list of values, and a custom index label.\n",
        "#Note that the labeled index reference for each row and it can have duplicate\n",
        "#values\n",
        "import pandas as pd\n",
        "import numpy as np\n",
        "s = pd.Series([1,2,3,np.nan,5,6], index=['A','B','C','D','E','F'])\n",
        "print(s)"
      ],
      "metadata": {
        "colab": {
          "base_uri": "https://localhost:8080/"
        },
        "id": "HMCZ9VQNGAN5",
        "outputId": "0a2f64d9-a0f4-46ba-d724-1c4b94d39524"
      },
      "execution_count": 1,
      "outputs": [
        {
          "output_type": "stream",
          "name": "stdout",
          "text": [
            "A    1.0\n",
            "B    2.0\n",
            "C    3.0\n",
            "D    NaN\n",
            "E    5.0\n",
            "F    6.0\n",
            "dtype: float64\n"
          ]
        }
      ]
    },
    {
      "cell_type": "markdown",
      "source": [
        "DataFrame"
      ],
      "metadata": {
        "id": "L_7Z9ZcJGMhy"
      }
    },
    {
      "cell_type": "code",
      "source": [
        "\n",
        "data = {'Gender': ['F', 'M', 'M'],'Emp_ID': ['E01', 'E02','E03'], 'Age': [25, 27, 25]}\n",
        "# We want the order the columns, so lets specify in columns parameter\n",
        "df = pd.DataFrame(data, columns=['Emp_ID','Gender', 'Age'])\n",
        "print(df) #output all data\n",
        "print(df.Emp_ID) #output all Emp_ID(entire column)\n",
        "print(df.Emp_ID[0]) #output first Emp_IDd"
      ],
      "metadata": {
        "colab": {
          "base_uri": "https://localhost:8080/"
        },
        "id": "jLiK-6dWGPb5",
        "outputId": "72f45592-7a58-4beb-dd6c-1d1e9962a6cc"
      },
      "execution_count": 3,
      "outputs": [
        {
          "output_type": "stream",
          "name": "stdout",
          "text": [
            "  Emp_ID Gender  Age\n",
            "0    E01      F   25\n",
            "1    E02      M   27\n",
            "2    E03      M   25\n",
            "0    E01\n",
            "1    E02\n",
            "2    E03\n",
            "Name: Emp_ID, dtype: object\n",
            "E01\n"
          ]
        }
      ]
    },
    {
      "cell_type": "markdown",
      "source": [
        "Reading / writing data from csv, text, Excel Reading"
      ],
      "metadata": {
        "id": "2n55rH7GGd6l"
      }
    },
    {
      "cell_type": "code",
      "source": [
        "\n",
        "df1=pd.read_csv('Data/mtcars.csv') # from csv\n",
        "df2=pd.read_csv('Data/mtcars.txt', sep='\\t') # from text file\n",
        "df3=pd.read_excel('Data/mtcars.xlsx','Sheet2') # from Excel\n"
      ],
      "metadata": {
        "id": "hCO6f8_cGjZW"
      },
      "execution_count": null,
      "outputs": []
    },
    {
      "cell_type": "code",
      "source": [
        "\n",
        "# reading from multiple sheets of same Excel into different dataframes\n",
        "xlsx = pd.ExcelFile('file_name.xls')\n",
        "sheet1_df = pd.read_excel(xlsx, 'Sheet1')\n",
        "sheet2_df = pd.read_excel(xlsx, 'Sheet2')\n"
      ],
      "metadata": {
        "id": "T1QJvCaYGrPz"
      },
      "execution_count": null,
      "outputs": []
    },
    {
      "cell_type": "code",
      "source": [
        "\n",
        "# writing from dataframe to files\n",
        "# Index = False parameter will not write the index values, default is True\n",
        "df.to_csv('Data/mtcars_new.csv', index=False)\n",
        "df.to_csv('Data/mtcars_new.txt', sep='\\t', index=False)\n",
        "df.to_excel('Data/mtcars_new.xlsx',sheet_name='Sheet1', index = False)"
      ],
      "metadata": {
        "id": "M4LVA7MoGttD"
      },
      "execution_count": null,
      "outputs": []
    },
    {
      "cell_type": "markdown",
      "source": [
        "Basic statistics on dataframe"
      ],
      "metadata": {
        "id": "cSUuHBKMHJvY"
      }
    },
    {
      "cell_type": "code",
      "source": [
        "df = pd.read_csv('Data/iris.csv')\n",
        "df.describe()\n",
        "#---- output ----\n",
        "#Sepal.Length Sepal.Width Petal.Length Petal.Width\n",
        "#count 150.000000 150.000000 150.000000 150.000000\n",
        "#mean 5.843333 3.057333 3.758000 1.199333\n",
        "#std 0.828066 0.435866 1.765298 0.762238\n",
        "#min 4.300000 2.000000 1.000000 0.100000\n",
        "\n",
        "#25% 5.100000 2.800000 1.600000 0.300000\n",
        "#50% 5.800000 3.000000 4.350000 1.300000\n",
        "#75% 6.400000 3.300000 5.100000 1.800000\n",
        "#max 7.900000 4.400000 6.900000 2.500000"
      ],
      "metadata": {
        "id": "g8YaVW8FHO5w"
      },
      "execution_count": null,
      "outputs": []
    },
    {
      "cell_type": "markdown",
      "source": [
        "Creating covariance on dataframe"
      ],
      "metadata": {
        "id": "inF3Y6_FHcoZ"
      }
    },
    {
      "cell_type": "code",
      "source": [
        "df = pd.read_csv('Data/iris.csv')\n",
        "df.cov()\n",
        "#---- output ----\n",
        "#Sepal.Length Sepal.Width Petal.Length Petal.Width\n",
        "#Sepal.Length 0.685694 -0.042434 1.274315 0.516271\n",
        "#Sepal.Width -0.042434 0.189979 -0.329656 -0.121639\n",
        "#Petal.Length 1.274315 -0.329656 3.116278 1.295609\n",
        "#Petal.Width 0.516271 -0.121639 1.295609 0.581006"
      ],
      "metadata": {
        "id": "_8cLax_dHgEt"
      },
      "execution_count": null,
      "outputs": []
    },
    {
      "cell_type": "markdown",
      "source": [
        "Creating correlation matrix on dataframe\n"
      ],
      "metadata": {
        "id": "d9zNXxsbHrxp"
      }
    },
    {
      "cell_type": "code",
      "source": [
        "df = pd.read_csv('Data/iris.csv')\n",
        "df.corr()\n",
        "#----output----\n",
        "# Sepal.Length Sepal.Width Petal.Length Petal.Width\n",
        "#Sepal.Length 1.000000 -0.117570 0.871754 0.817941\n",
        "#Sepal.Width -0.117570 1.000000 -0.428440 -0.366126\n",
        "#Petal.Length 0.871754 -0.428440 1.000000 0.962865\n",
        "#Petal.Width 0.817941 -0.366126 0.962865 1.000000"
      ],
      "metadata": {
        "id": "LB8xShhJHwCf"
      },
      "execution_count": null,
      "outputs": []
    }
  ]
}